{
 "cells": [
  {
   "cell_type": "code",
   "execution_count": 231,
   "id": "f44e1b97",
   "metadata": {},
   "outputs": [],
   "source": [
    "import pandas as pd\n",
    "import numpy as np\n",
    "import scipy\n",
    "import torch as T\n",
    "import sys\n",
    "import cmath\n",
    "from datetime import datetime as dt"
   ]
  },
  {
   "cell_type": "code",
   "execution_count": 207,
   "id": "8d4ac3bb",
   "metadata": {},
   "outputs": [],
   "source": [
    "mat_1 = np.random.randint(25000, 30000, (200, 1))\n",
    "mat_2 = np.random.randint(25000, 30000, (1000, 1))"
   ]
  },
  {
   "cell_type": "code",
   "execution_count": 208,
   "id": "07f96f14",
   "metadata": {},
   "outputs": [],
   "source": [
    "def get_cat_matches(df, id_col, cat_col):\n",
    "    df = df[[id_col, cat_col]]\n",
    "    \n",
    "    tempdf = pd.get_dummies(df[cat_col], prefix='cat')\n",
    "    df = pd.merge(\n",
    "        left=df,\n",
    "        right=tempdf,\n",
    "        left_index=True,\n",
    "        right_index=True\n",
    "    )\n",
    "    df.drop(columns=cat_col, inplace=True)\n",
    "    cat_groups = [x for x in df.columns if 'cat' in x]\n",
    "    \n",
    "    df = df.groupby(id_col, as_index=False).sum()\n",
    "    df[cat_groups] = df[cat_groups].astype(bool).astype(int)\n",
    "    \n",
    "    orig = df[df[id_col].isin(self.orig_match_ids)]\n",
    "    other = df[df[id_col].isin(self.orig_match_ids) == False]\n",
    "\n",
    "    ## M -> mxn ||| N -> nxp  ||| sim_matrix = matmul(M, N) mxp\n",
    "    M = orig[cat_groups].to_numpy(dtype=np.int)\n",
    "    N = other[cat_groups].to_numpy(dtype=np.int).transpose()\n",
    "    \n",
    "    sim_matrix = M@N\n",
    "    return sim_matrix\n",
    "\n",
    "def get_difference_matrix(mat_1, mat_2, power):\n",
    "    M = mat_1\n",
    "    N = -mat_2.transpose(1, 0)\n",
    "    if power is None:\n",
    "        M = np.exp(M)\n",
    "        N = np.exp(N)\n",
    "        return np.abs(np.log(np.matmul(M, N)))\n",
    "    vlog = np.vectorize(cmath.log)\n",
    "    M = np.float_power(power, M)\n",
    "    N = np.float_power(power, N)\n",
    "    return np.abs(vlog(M@N, power))\n",
    "\n",
    "def get_inv_difference_matrix(mat_1, mat_2, power=1.01, eta=1.0):\n",
    "    diff_mat = get_difference_matrix(mat_1, mat_2, power=power)\n",
    "    inv_diff_mat = 1 / (diff_mat + eta)\n",
    "    return inv_diff_mat\n",
    "\n",
    "def get_topk(mat, k=5):\n",
    "    indices = np.argsort(mat, axis=1)[:, -k:]\n",
    "    topk = inv_diff_mat[np.array(k*[np.arange(inv_diff_mat.shape[0])])\\\n",
    "                        .transpose(), indices]\n",
    "    return topk, indices"
   ]
  },
  {
   "cell_type": "code",
   "execution_count": 209,
   "id": "77f2a9e7",
   "metadata": {},
   "outputs": [],
   "source": [
    "inv_diff_mat = get_inv_difference_matrix(mat_1, mat_2)\n",
    "topk, indices = get_topk(inv_diff_mat)"
   ]
  },
  {
   "cell_type": "code",
   "execution_count": 235,
   "id": "9e188b1f",
   "metadata": {},
   "outputs": [
    {
     "data": {
      "text/plain": [
       "638.0"
      ]
     },
     "execution_count": 235,
     "metadata": {},
     "output_type": "execute_result"
    }
   ],
   "source": [
    "date_1 = dt.now()\n",
    "dt.timestamp(date_1) // (30*86400) ##months"
   ]
  },
  {
   "cell_type": "code",
   "execution_count": null,
   "id": "f55c6d19",
   "metadata": {},
   "outputs": [],
   "source": []
  }
 ],
 "metadata": {
  "kernelspec": {
   "display_name": "Python 3 (ipykernel)",
   "language": "python",
   "name": "python3"
  },
  "language_info": {
   "codemirror_mode": {
    "name": "ipython",
    "version": 3
   },
   "file_extension": ".py",
   "mimetype": "text/x-python",
   "name": "python",
   "nbconvert_exporter": "python",
   "pygments_lexer": "ipython3",
   "version": "3.8.12"
  }
 },
 "nbformat": 4,
 "nbformat_minor": 5
}
