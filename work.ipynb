{
 "cells": [
  {
   "cell_type": "code",
   "execution_count": null,
   "id": "f44e1b97",
   "metadata": {},
   "outputs": [],
   "source": [
    "import pandas as pd\n",
    "import numpy as np\n",
    "import scipy\n",
    "import torch as T\n",
    "from scipy.sparse import csr_matrix, dok_matrix\n",
    "import sys\n",
    "import cmath\n",
    "import time\n",
    "from datetime import datetime as dt\n",
    "from datetime import date"
   ]
  },
  {
   "cell_type": "code",
   "execution_count": null,
   "id": "8d4ac3bb",
   "metadata": {},
   "outputs": [],
   "source": [
    "mat_1 = np.random.choice(2, size=(200, 100000), p=[0.99, 0.01])\n",
    "mat_2 = np.random.choice(2, size=(200, 100000), p=[0.99, 0.01])"
   ]
  },
  {
   "cell_type": "code",
   "execution_count": null,
   "id": "07f96f14",
   "metadata": {},
   "outputs": [],
   "source": [
    "def sparse_ohe(df, col):\n",
    "    cats = df[col].unique()\n",
    "    colarray = df[col].values\n",
    "    # construct a sparse matrix of the appropriate size and an appropriate,\n",
    "    # memory-efficient dtype\n",
    "    spmtx = dok_matrix((df.shape[0], vals.shape[0]), dtype=np.uint8)\n",
    "    # do the encoding\n",
    "    spmtx[np.where(colaray.reshape(-1, 1) == vals.reshape(1, -1))] = 1\n",
    "\n",
    "    # Construct a SparseDataFrame from the sparse matrix\n",
    "    dfnew = pd.SparseDataFrame(spmtx, dtype=np.uint8, index=df.index,\n",
    "                               columns=['cat' + '_' + str(x) for x in cats])\n",
    "    dfnew.fillna(0, inplace=True)\n",
    "    return dfnew\n",
    "\n",
    "def get_cat_matches(df, id_col, cat_col):\n",
    "    df = df[[id_col, cat_col]]\n",
    "    \n",
    "    tempdf = pd.get_dummies(df[cat_col], prefix='cat')\n",
    "    df = pd.merge(\n",
    "        left=df,\n",
    "        right=tempdf,\n",
    "        left_index=True,\n",
    "        right_index=True\n",
    "    )\n",
    "    df.drop(columns=cat_col, inplace=True)\n",
    "    cat_groups = [x for x in df.columns if 'cat' in x]\n",
    "    \n",
    "    df = df.groupby(id_col, as_index=False).sum()\n",
    "    df[cat_groups] = df[cat_groups].astype(bool).astype(int)\n",
    "    \n",
    "    orig = df[df[id_col].isin(self.orig_match_ids)]\n",
    "    other = df[df[id_col].isin(self.orig_match_ids) == False]\n",
    "\n",
    "    ## M -> mxn ||| N -> nxp  ||| sim_matrix = matmul(M, N) mxp\n",
    "    M = orig[cat_groups].to_numpy(dtype=np.int)\n",
    "    N = other[cat_groups].to_numpy(dtype=np.int).transpose()\n",
    "    \n",
    "    sim_matrix = M@N\n",
    "    return sim_matrix\n",
    "\n",
    "def get_difference_matrix(mat_1, mat_2, power):\n",
    "    M = mat_1\n",
    "    N = -mat_2.transpose(1, 0)\n",
    "    if power is None:\n",
    "        M = np.exp(M)\n",
    "        N = np.exp(N)\n",
    "        return np.abs(np.log(np.matmul(M, N)))\n",
    "    vlog = np.vectorize(cmath.log)\n",
    "    M = np.float_power(power, M)\n",
    "    N = np.float_power(power, N)\n",
    "    return np.abs(vlog(M@N, power))\n",
    "\n",
    "def get_inv_difference_matrix(mat_1, mat_2, power=1.01, eta=1.0):\n",
    "    diff_mat = get_difference_matrix(mat_1, mat_2, power=power)\n",
    "    inv_diff_mat = 1 / (diff_mat + eta)\n",
    "    return inv_diff_mat\n",
    "\n",
    "def get_topk(mat, k=5):\n",
    "    indices = np.argsort(mat, axis=1)[:, -k:]\n",
    "    topk = inv_diff_mat[np.array(k*[np.arange(inv_diff_mat.shape[0])])\\\n",
    "                        .transpose(), indices]\n",
    "    return topk, indices"
   ]
  },
  {
   "cell_type": "code",
   "execution_count": null,
   "id": "77f2a9e7",
   "metadata": {},
   "outputs": [],
   "source": [
    "inv_diff_mat = get_inv_difference_matrix(mat_1, mat_2)\n",
    "topk, indices = get_topk(inv_diff_mat)"
   ]
  },
  {
   "cell_type": "code",
   "execution_count": null,
   "id": "9e188b1f",
   "metadata": {},
   "outputs": [],
   "source": [
    "date_1 = dt.now()\n",
    "dt.timestamp(date_1) // (30*86400) ##months\n",
    "date_2 = date.today()\n",
    "dt(date_2.year, date_2.month, date_2.day).timestamp()"
   ]
  },
  {
   "cell_type": "code",
   "execution_count": null,
   "id": "d3b31235",
   "metadata": {},
   "outputs": [],
   "source": [
    "initial = time.time()\n",
    "m1 = mat_1\n",
    "m2 = mat_2.transpose()\n",
    "m1@m2\n",
    "time.time() - initial"
   ]
  },
  {
   "cell_type": "code",
   "execution_count": null,
   "id": "f55c6d19",
   "metadata": {},
   "outputs": [],
   "source": [
    "initial = time.time()\n",
    "m1 = csr_matrix(mat_1, dtype=np.int8)\n",
    "m2 = csr_matrix(mat_2.transpose(), dtype=np.int8)\n",
    "val = (m1@m2).toarray()\n",
    "print(time.time() - initial)"
   ]
  }
 ],
 "metadata": {
  "kernelspec": {
   "display_name": "Python 3 (ipykernel)",
   "language": "python",
   "name": "python3"
  },
  "language_info": {
   "codemirror_mode": {
    "name": "ipython",
    "version": 3
   },
   "file_extension": ".py",
   "mimetype": "text/x-python",
   "name": "python",
   "nbconvert_exporter": "python",
   "pygments_lexer": "ipython3",
   "version": "3.8.12"
  }
 },
 "nbformat": 4,
 "nbformat_minor": 5
}
